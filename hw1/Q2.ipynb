{
 "cells": [
  {
   "cell_type": "code",
   "execution_count": 3,
   "metadata": {},
   "outputs": [],
   "source": [
    "import numpy as np\n",
    "import matplotlib.pyplot as plt\n",
    "from PIL import Image"
   ]
  },
  {
   "cell_type": "code",
   "execution_count": 4,
   "metadata": {},
   "outputs": [],
   "source": [
    "# load lena\n",
    "\n",
    "lena_im = Image.open('data/lena_gray.bmp')\n",
    "lena_arr = np.array(lena_im)\n",
    "lena_vec = lena_arr.flatten()\n",
    "lena_hist = np.unique(lena_arr, return_counts=True)"
   ]
  },
  {
   "cell_type": "code",
   "execution_count": 7,
   "metadata": {},
   "outputs": [],
   "source": [
    "def get_f_from_rep(fhat,m):\n",
    "    f = np.ones((m,m))\n",
    "    N = len(fhat)\n",
    "    for i in range(N):\n",
    "        for j in range(N):\n",
    "            ml, mh = i*m//N,(i+1)*m//N\n",
    "            f[ml:mh,ml:mh] *= fhat\n",
    "\n",
    "    return f"
   ]
  },
  {
   "cell_type": "code",
   "execution_count": 8,
   "metadata": {},
   "outputs": [],
   "source": [
    "def Lp_mse(f,fhat,p,w):\n",
    "    return np.sum(np.abs(f - get_f_from_rep(fhat,f.shape[0]))**p*w)"
   ]
  },
  {
   "cell_type": "code",
   "execution_count": 9,
   "metadata": {},
   "outputs": [],
   "source": [
    "def Lp_solver(f, w, p, N, eps=1e-3, delta=1e-10):\n",
    "    m,n = f.shape\n",
    "    fhat = np.ones((N,N))\n",
    "    wtag = w\n",
    "\n",
    "    for i in range(N):\n",
    "        for j in range(N):\n",
    "            ml, mh = i*m//N,(i+1)*m//N\n",
    "            nl, nh = j*n//N,(j+1)*n//N\n",
    "\n",
    "            def step():\n",
    "                # get w from prev fhat\n",
    "                wtag[ml:mh,nl:nh] = (np.minimum(1/delta, np.abs(f - fhat[i,j])**(p-2) * w))[ml:mh,nl:nh]\n",
    "\n",
    "                # get new fhat\n",
    "                fhat[i,j] = np.sum(f*wtag[ml:mh,nl:nh])/np.sum(wtag)[ml:mh,nl:nh]\n",
    "            \n",
    "            prev_error = Lp_mse(f, fhat, p, w)\n",
    "            step()\n",
    "            error = Lp_mse(f, fhat, p, w)\n",
    "            while np.abs(error - prev_error) > eps:\n",
    "                prev_error = error\n",
    "                step()\n",
    "                error = Lp_mse(f, fhat, p, w)\n",
    "\n",
    "    return fhat"
   ]
  }
 ],
 "metadata": {
  "kernelspec": {
   "display_name": "Python 3",
   "language": "python",
   "name": "python3"
  },
  "language_info": {
   "codemirror_mode": {
    "name": "ipython",
    "version": 3
   },
   "file_extension": ".py",
   "mimetype": "text/x-python",
   "name": "python",
   "nbconvert_exporter": "python",
   "pygments_lexer": "ipython3",
   "version": "3.10.4"
  },
  "orig_nbformat": 4
 },
 "nbformat": 4,
 "nbformat_minor": 2
}
