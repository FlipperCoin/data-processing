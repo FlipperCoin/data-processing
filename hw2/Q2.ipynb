{
 "cells": [
  {
   "cell_type": "code",
   "execution_count": 1,
   "metadata": {},
   "outputs": [],
   "source": [
    "import numpy as np\n",
    "import matplotlib.pyplot as plt"
   ]
  },
  {
   "attachments": {},
   "cell_type": "markdown",
   "metadata": {},
   "source": [
    "# Question 2"
   ]
  },
  {
   "attachments": {},
   "cell_type": "markdown",
   "metadata": {},
   "source": [
    "### Setup"
   ]
  },
  {
   "cell_type": "code",
   "execution_count": 38,
   "metadata": {},
   "outputs": [],
   "source": [
    "t = np.linspace(0,1,150)"
   ]
  },
  {
   "attachments": {},
   "cell_type": "markdown",
   "metadata": {},
   "source": [
    "### Function Definitions"
   ]
  },
  {
   "cell_type": "code",
   "execution_count": 39,
   "metadata": {},
   "outputs": [],
   "source": [
    "def standard_basis(n):\n",
    "    delta = 1/(2**n)\n",
    "    ei = np.sqrt(1/delta)*np.ones(t.shape)\n",
    "    e = np.array([ei]*2**n)\n",
    "    for i in range(2**n):\n",
    "        e[i][(t<i*delta) | (t>(i+1)*delta)] = 0\n",
    "    return e"
   ]
  },
  {
   "cell_type": "code",
   "execution_count": 40,
   "metadata": {},
   "outputs": [],
   "source": [
    "def H2n(n):\n",
    "    if n < 0:\n",
    "        raise ValueError(\"n should be a non-negative integer.\")\n",
    "    if n == 0:\n",
    "        return np.array([1])\n",
    "    Hprev = H2n(n-1)\n",
    "    return np.block([[Hprev, Hprev],\n",
    "                     [Hprev, -Hprev]])"
   ]
  },
  {
   "cell_type": "code",
   "execution_count": 41,
   "metadata": {},
   "outputs": [],
   "source": [
    "def WH2n(H2n):\n",
    "    pass"
   ]
  },
  {
   "attachments": {},
   "cell_type": "markdown",
   "metadata": {},
   "source": [
    "### Families Generation"
   ]
  },
  {
   "cell_type": "code",
   "execution_count": 45,
   "metadata": {},
   "outputs": [],
   "source": [
    "for n in range(2,7):\n",
    "    h = H2n(n).T @ standard_basis(n)\n",
    "    for i in range(2**n):\n",
    "        plt.figure()\n",
    "        plt.plot(t, h[i])\n",
    "        plt.xlabel('t')\n",
    "        plt.ylabel(r'$h_{i}(t)$')\n",
    "        plt.title(r'$h_{' + f'{i+1}' + rf'}}(t), n={n}$')\n",
    "        plt.grid()\n",
    "        plt.savefig(f'plots/H/n{n}/h{i+1}')\n",
    "        plt.close()"
   ]
  }
 ],
 "metadata": {
  "kernelspec": {
   "display_name": "Python 3",
   "language": "python",
   "name": "python3"
  },
  "language_info": {
   "codemirror_mode": {
    "name": "ipython",
    "version": 3
   },
   "file_extension": ".py",
   "mimetype": "text/x-python",
   "name": "python",
   "nbconvert_exporter": "python",
   "pygments_lexer": "ipython3",
   "version": "3.10.4"
  },
  "orig_nbformat": 4
 },
 "nbformat": 4,
 "nbformat_minor": 2
}
